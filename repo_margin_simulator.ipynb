{
 "cells": [
  {
   "cell_type": "markdown",
   "id": "15ced6b0",
   "metadata": {},
   "source": [
    "# Simulateur de Marge pour Broker Repo 💰📉\n",
    "\n",
    "Ce notebook simule la **marge nette d’un broker** sur une opération de repo ou reverse repo.  \n",
    "Il prend en compte :\n",
    "- le montant prêté\n",
    "- la valeur du collatéral\n",
    "- le haircut\n",
    "- le coût de financement du broker\n",
    "- la durée de l’opération\n",
    "- le taux repo\n",
    "\n",
    "Objectif : calculer le **PNL du broker** sur l’opération.\n"
   ]
  },
  {
   "cell_type": "code",
   "execution_count": null,
   "id": "4fcfbffe",
   "metadata": {},
   "outputs": [],
   "source": [
    "# Paramètres de l'opération\n",
    "notional = 10_000_000         # Montant prêté par le broker\n",
    "collateral_value = 10_200_000 # Valeur du collatéral donné en garantie\n",
    "repo_rate = 0.028             # Taux de repo (2.8%)\n",
    "haircut = 0.02                # Haircut appliqué (2%)\n",
    "funding_cost = 0.023          # Coût de financement du broker (2.3%)\n",
    "duration_days = 5             # Durée de l'opération\n",
    "\n",
    "# Calculs\n",
    "effective_collateral = collateral_value * (1 - haircut)\n",
    "cash_lent = min(notional, effective_collateral)  # cash réellement prêté\n",
    "\n",
    "interest_received = cash_lent * repo_rate * duration_days / 360\n",
    "interest_paid = cash_lent * funding_cost * duration_days / 360\n",
    "\n",
    "pnl = interest_received - interest_paid\n",
    "\n",
    "# Résultat\n",
    "print(f\"Cash prêté         : {cash_lent:,.2f} €\")\n",
    "print(f\"Intérêts reçus     : {interest_received:,.2f} €\")\n",
    "print(f\"Coût de funding    : {interest_paid:,.2f} €\")\n",
    "print(f\"➡️  Marge nette broker : {pnl:,.2f} €\")\n"
   ]
  }
 ],
 "metadata": {},
 "nbformat": 4,
 "nbformat_minor": 5
}
